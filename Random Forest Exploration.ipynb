{
 "cells": [
  {
   "cell_type": "code",
   "execution_count": 45,
   "metadata": {},
   "outputs": [],
   "source": [
    "from scipy.sparse import vstack\n",
    "\n",
    "from sklearn_evaluation import plot\n",
    "from matplotlib import pyplot as plt\n",
    "\n",
    "import numpy as np\n",
    "from utils import *\n",
    "\n",
    "np.random.seed(1122)"
   ]
  },
  {
   "cell_type": "code",
   "execution_count": 2,
   "metadata": {},
   "outputs": [],
   "source": [
    "## Get data\n",
    "data = get_IMBD_preprocessing(load_cached=True)\n",
    "X_train, X_val, X_test, y_train, y_val, y_test = \\\n",
    "        data[\"X_train\"], data[\"X_val\"], data[\"X_test\"], data[\"y_train\"], data[\"y_val\"], data[\"y_test\"]"
   ]
  },
  {
   "cell_type": "code",
   "execution_count": 3,
   "metadata": {},
   "outputs": [],
   "source": [
    "from sklearn.ensemble import RandomForestClassifier\n",
    "from sklearn.model_selection import GridSearchCV"
   ]
  },
  {
   "cell_type": "code",
   "execution_count": 4,
   "metadata": {},
   "outputs": [
    {
     "name": "stdout",
     "output_type": "stream",
     "text": [
      "(6250, 92715)\n",
      "(18750, 92715)\n",
      "(25000, 92715)\n"
     ]
    }
   ],
   "source": [
    "print (X_val.shape)\n",
    "print (X_train.shape)\n",
    "print (X_test.shape)"
   ]
  },
  {
   "cell_type": "code",
   "execution_count": 5,
   "metadata": {},
   "outputs": [
    {
     "data": {
      "text/plain": [
       "GridSearchCV(cv=3, error_score='raise-deprecating',\n",
       "       estimator=RandomForestClassifier(bootstrap=True, class_weight=None, criterion='gini',\n",
       "            max_depth=None, max_features='auto', max_leaf_nodes=None,\n",
       "            min_impurity_decrease=0.0, min_impurity_split=None,\n",
       "            min_samples_leaf=1, min_samples_split=2,\n",
       "            min_weight_fraction_leaf=0.0, n_estimators='warn', n_jobs=None,\n",
       "            oob_score=False, random_state=None, verbose=0,\n",
       "            warm_start=False),\n",
       "       fit_params=None, iid='warn', n_jobs=None,\n",
       "       param_grid={'n_estimators': [50, 200, 400], 'criterion': ['gini', 'entropy'], 'max_depth': [None, 2, 10]},\n",
       "       pre_dispatch='2*n_jobs', refit=True, return_train_score='warn',\n",
       "       scoring=None, verbose=0)"
      ]
     },
     "execution_count": 5,
     "metadata": {},
     "output_type": "execute_result"
    }
   ],
   "source": [
    "##\n",
    "# Grid search model selection\n",
    "##\n",
    "\n",
    "ESTIMATORS = [50,200,400]\n",
    "CRITERION = ['gini','entropy']\n",
    "MAX_DEPTH = [None, 2, 10]\n",
    "parameters = {'n_estimators':ESTIMATORS, 'criterion':CRITERION, 'max_depth':MAX_DEPTH}\n",
    "clf = GridSearchCV(RandomForestClassifier(), parameters, cv=3)\n",
    "clf.fit(vstack((X_train,X_val)),np.concatenate((y_train,y_val)), )"
   ]
  },
  {
   "cell_type": "code",
   "execution_count": 37,
   "metadata": {},
   "outputs": [
    {
     "data": {
      "text/plain": [
       "([<matplotlib.axis.XTick at 0x1228ffba8>,\n",
       "  <matplotlib.axis.XTick at 0x122907e10>,\n",
       "  <matplotlib.axis.XTick at 0x1226d61d0>],\n",
       " <a list of 3 Text xticklabel objects>)"
      ]
     },
     "execution_count": 37,
     "metadata": {},
     "output_type": "execute_result"
    },
    {
     "data": {
      "image/png": "[encoded data removed]",
      "text/plain": [
       "<Figure size 432x288 with 1 Axes>"
      ]
     },
     "metadata": {
      "needs_background": "light"
     },
     "output_type": "display_data"
    }
   ],
   "source": [
    "grid_search = plot.grid_search(clf.cv_results_, change='max_depth', kind='bar')\n",
    "grid_search.legend(loc='lower left')\n",
    "plt.title(\"Robust parameter range grid search\")\n",
    "plt.xticks([.33,1.33,2.33],[\"Unlimited\", \"2\", \"10\"])"
   ]
  },
  {
   "cell_type": "code",
   "execution_count": 40,
   "metadata": {},
   "outputs": [
    {
     "name": "stdout",
     "output_type": "stream",
     "text": [
      "Best model: {'criterion': 'entropy', 'max_depth': None, 'n_estimators': 400}\n",
      "Test score: 0.85744\n"
     ]
    }
   ],
   "source": [
    "print (\"Best model:\",clf.best_params_)\n",
    "cross_validation_best_esimator = clf.best_estimator_\n",
    "print (\"Test score:\",cross_validation_best_esimator.score(X_test, y_test))"
   ]
  },
  {
   "cell_type": "code",
   "execution_count": 14,
   "metadata": {},
   "outputs": [
    {
     "data": {
      "text/plain": [
       "GridSearchCV(cv=3, error_score='raise-deprecating',\n",
       "       estimator=RandomForestClassifier(bootstrap=True, class_weight=None, criterion='gini',\n",
       "            max_depth=None, max_features='auto', max_leaf_nodes=None,\n",
       "            min_impurity_decrease=0.0, min_impurity_split=None,\n",
       "            min_samples_leaf=1, min_samples_split=2,\n",
       "            min_weight_fraction_leaf=0.0, n_estimators='warn', n_jobs=None,\n",
       "            oob_score=False, random_state=None, verbose=0,\n",
       "            warm_start=False),\n",
       "       fit_params=None, iid='warn', n_jobs=None,\n",
       "       param_grid={'n_estimators': [5, 10], 'criterion': ['gini', 'entropy'], 'max_depth': [None, 2, 10]},\n",
       "       pre_dispatch='2*n_jobs', refit=True, return_train_score='warn',\n",
       "       scoring=None, verbose=0)"
      ]
     },
     "execution_count": 14,
     "metadata": {},
     "output_type": "execute_result"
    }
   ],
   "source": [
    "##\n",
    "# Underfit search model selection\n",
    "##\n",
    "\n",
    "ESTIMATORS = [5,10]\n",
    "CRITERION = ['gini','entropy']\n",
    "parameters = {'n_estimators':ESTIMATORS, 'criterion':CRITERION, 'max_depth':MAX_DEPTH}\n",
    "clf_bad = GridSearchCV(RandomForestClassifier(), parameters, cv=3)\n",
    "clf_bad.fit(vstack((X_train,X_val)),np.concatenate((y_train,y_val)))"
   ]
  },
  {
   "cell_type": "code",
   "execution_count": 41,
   "metadata": {},
   "outputs": [
    {
     "name": "stdout",
     "output_type": "stream",
     "text": [
      "Best (bad) model: {'criterion': 'entropy', 'max_depth': None, 'n_estimators': 10}\n",
      "Test score: 0.74436\n"
     ]
    }
   ],
   "source": [
    "print (\"Best (bad) model:\",clf_bad.best_params_)\n",
    "cross_validation_best_esimator = clf_bad.best_estimator_\n",
    "print (\"Test score:\",cross_validation_best_esimator.score(X_test, y_test))"
   ]
  },
  {
   "cell_type": "code",
   "execution_count": 46,
   "metadata": {},
   "outputs": [
    {
     "data": {
      "text/plain": [
       "([<matplotlib.axis.XTick at 0x13c0e0908>,\n",
       "  <matplotlib.axis.XTick at 0x13c0e0eb8>,\n",
       "  <matplotlib.axis.XTick at 0x13c0e0128>],\n",
       " <a list of 3 Text xticklabel objects>)"
      ]
     },
     "execution_count": 46,
     "metadata": {},
     "output_type": "execute_result"
    },
    {
     "data": {
      "image/png": "[encoded data removed]",
      "text/plain": [
       "<Figure size 432x288 with 1 Axes>"
      ]
     },
     "metadata": {
      "needs_background": "light"
     },
     "output_type": "display_data"
    }
   ],
   "source": [
    "grid_search = plot.grid_search(clf_bad.cv_results_, change='max_depth', kind='bar')\n",
    "grid_search.legend(loc='lower left')\n",
    "plt.title(\"Initial parameter range grid search\")\n",
    "plt.xticks([.33,1.33,2.33],[\"Unlimited\", \"2\", \"10\"])"
   ]
  },
  {
   "cell_type": "code",
   "execution_count": 47,
   "metadata": {},
   "outputs": [],
   "source": [
    "preds = clf.predict(X_test)"
   ]
  },
  {
   "cell_type": "code",
   "execution_count": 48,
   "metadata": {},
   "outputs": [
    {
     "name": "stdout",
     "output_type": "stream",
     "text": [
      "[ True  True  True ...  True False False]\n"
     ]
    }
   ],
   "source": [
    "print (y_test == preds)"
   ]
  },
  {
   "cell_type": "code",
   "execution_count": 49,
   "metadata": {},
   "outputs": [],
   "source": [
    "from sklearn.metrics import confusion_matrix"
   ]
  },
  {
   "cell_type": "code",
   "execution_count": 50,
   "metadata": {},
   "outputs": [
    {
     "data": {
      "text/plain": [
       "array([[10680,  1820],\n",
       "       [ 1744, 10756]])"
      ]
     },
     "execution_count": 50,
     "metadata": {},
     "output_type": "execute_result"
    }
   ],
   "source": [
    "confusion_matrix(y_test, preds)"
   ]
  },
  {
   "cell_type": "code",
   "execution_count": null,
   "metadata": {},
   "outputs": [],
   "source": []
  }
 ],
 "metadata": {
  "kernelspec": {
   "display_name": "dylanvenv",
   "language": "python",
   "name": "dylanvenv"
  },
  "language_info": {
   "codemirror_mode": {
    "name": "ipython",
    "version": 3
   },
   "file_extension": ".py",
   "mimetype": "text/x-python",
   "name": "python",
   "nbconvert_exporter": "python",
   "pygments_lexer": "ipython3",
   "version": "3.6.8"
  }
 },
 "nbformat": 4,
 "nbformat_minor": 2
}
